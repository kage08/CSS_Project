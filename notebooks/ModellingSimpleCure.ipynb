{
 "cells": [
  {
   "cell_type": "code",
   "execution_count": 1,
   "id": "d3be6938",
   "metadata": {},
   "outputs": [
    {
     "name": "stdout",
     "output_type": "stream",
     "text": [
      "/home/harshapk/Projects/CSS_Project\n"
     ]
    }
   ],
   "source": [
    "%cd ../\n",
    "import numpy as np\n",
    "import pandas as pd\n",
    "from tqdm import tqdm\n",
    "%load_ext autoreload\n",
    "%autoreload 2"
   ]
  },
  {
   "cell_type": "code",
   "execution_count": 2,
   "id": "3c0ba994",
   "metadata": {},
   "outputs": [],
   "source": [
    "import pickle\n",
    "with open(\"./data/data_processed/cure_data_cleaned.pkl\", \"rb\") as f:\n",
    "    dataset = pickle.load(f)"
   ]
  },
  {
   "cell_type": "code",
   "execution_count": 3,
   "id": "191df178",
   "metadata": {},
   "outputs": [],
   "source": [
    "dataset = dataset[dataset[\"lang\"] == \"en\"]"
   ]
  },
  {
   "cell_type": "code",
   "execution_count": 4,
   "id": "db6eb2a0",
   "metadata": {},
   "outputs": [],
   "source": [
    "dataset = dataset[[\"tweet_text\", \"retweets\", \"likes\", \"user_description\", \"user_following\",\n",
    "\"user_followers\", \"user_verified\", \"user_total_tweets\", \"user_total_likes\", \"label\"]]"
   ]
  },
  {
   "cell_type": "code",
   "execution_count": 5,
   "id": "5abe2f36",
   "metadata": {},
   "outputs": [
    {
     "data": {
      "text/plain": [
       "array([0, 1, 2])"
      ]
     },
     "execution_count": 5,
     "metadata": {},
     "output_type": "execute_result"
    }
   ],
   "source": [
    "dataset[\"label\"].unique()"
   ]
  },
  {
   "cell_type": "code",
   "execution_count": 6,
   "id": "9cfb7177",
   "metadata": {},
   "outputs": [
    {
     "name": "stderr",
     "output_type": "stream",
     "text": [
      "Some weights of the model checkpoint at bert-base-uncased were not used when initializing BertModel: ['cls.predictions.transform.dense.weight', 'cls.predictions.bias', 'cls.predictions.transform.LayerNorm.weight', 'cls.predictions.decoder.weight', 'cls.predictions.transform.dense.bias', 'cls.predictions.transform.LayerNorm.bias', 'cls.seq_relationship.bias', 'cls.seq_relationship.weight']\n",
      "- This IS expected if you are initializing BertModel from the checkpoint of a model trained on another task or with another architecture (e.g. initializing a BertForSequenceClassification model from a BertForPreTraining model).\n",
      "- This IS NOT expected if you are initializing BertModel from the checkpoint of a model that you expect to be exactly identical (initializing a BertForSequenceClassification model from a BertForSequenceClassification model).\n"
     ]
    }
   ],
   "source": [
    "from css_proj.models.bertembed import get_sentence_embed\n",
    "import transformers as ppb\n",
    "model_class, tokenizer_class, pretrained_weights = (ppb.BertModel, ppb.BertTokenizer, 'bert-base-uncased')\n",
    "tokenizer = tokenizer_class.from_pretrained(pretrained_weights)\n",
    "model = model_class.from_pretrained(pretrained_weights)"
   ]
  },
  {
   "cell_type": "code",
   "execution_count": 7,
   "id": "1dc8d5aa",
   "metadata": {},
   "outputs": [
    {
     "name": "stderr",
     "output_type": "stream",
     "text": [
      "100%|█████████████████████████████████████████████████████████████████████████████| 1970/1970 [02:46<00:00, 11.81it/s]\n"
     ]
    }
   ],
   "source": [
    "from css_proj.models.clean_tweet import process_text\n",
    "all_tw_text = dataset[\"tweet_text\"].tolist()\n",
    "all_tw_text_embed = [get_sentence_embed([process_text(text)], model, tokenizer).numpy() \n",
    "                     for text in tqdm(all_tw_text)]"
   ]
  },
  {
   "cell_type": "code",
   "execution_count": 8,
   "id": "3abacd9c",
   "metadata": {},
   "outputs": [],
   "source": [
    "all_tw_text_embed = np.array(all_tw_text_embed)\n",
    "all_tw_text_embed = all_tw_text_embed.squeeze()"
   ]
  },
  {
   "cell_type": "code",
   "execution_count": 9,
   "id": "1fa893c7",
   "metadata": {},
   "outputs": [
    {
     "name": "stderr",
     "output_type": "stream",
     "text": [
      "100%|█████████████████████████████████████████████████████████████████████████████| 1970/1970 [02:50<00:00, 11.57it/s]\n"
     ]
    }
   ],
   "source": [
    "all_tw_desc = dataset[\"user_description\"].tolist()\n",
    "all_tw_desc_embed = [get_sentence_embed([process_text(text)], model, tokenizer).numpy() for text in tqdm(all_tw_desc)]\n",
    "all_tw_desc_embed = np.array(all_tw_desc_embed).squeeze()"
   ]
  },
  {
   "cell_type": "code",
   "execution_count": 10,
   "id": "9b5303a1",
   "metadata": {},
   "outputs": [],
   "source": [
    "with open(\"./data/data_processed/covid_cure_embed.pkl\", \"wb\") as f:\n",
    "    pickle.dump([all_tw_text_embed, all_tw_desc_embed], f)"
   ]
  },
  {
   "cell_type": "code",
   "execution_count": 11,
   "id": "0c42e75f",
   "metadata": {},
   "outputs": [],
   "source": [
    "with open(\"./data/data_processed/covid_cure_embed.pkl\", \"rb\") as f:\n",
    "    all_tw_text_embed, all_tw_desc_embed = pickle.load(f)"
   ]
  },
  {
   "cell_type": "code",
   "execution_count": 12,
   "id": "bf08e0ae",
   "metadata": {},
   "outputs": [],
   "source": [
    "dataset[\"num_label\"] = dataset[\"label\"].apply(lambda x: 1 if x == 0 else 0)"
   ]
  },
  {
   "cell_type": "code",
   "execution_count": 13,
   "id": "fe147498",
   "metadata": {},
   "outputs": [
    {
     "data": {
      "text/html": [
       "<div>\n",
       "<style scoped>\n",
       "    .dataframe tbody tr th:only-of-type {\n",
       "        vertical-align: middle;\n",
       "    }\n",
       "\n",
       "    .dataframe tbody tr th {\n",
       "        vertical-align: top;\n",
       "    }\n",
       "\n",
       "    .dataframe thead th {\n",
       "        text-align: right;\n",
       "    }\n",
       "</style>\n",
       "<table border=\"1\" class=\"dataframe\">\n",
       "  <thead>\n",
       "    <tr style=\"text-align: right;\">\n",
       "      <th></th>\n",
       "      <th>tweet_text</th>\n",
       "      <th>retweets</th>\n",
       "      <th>likes</th>\n",
       "      <th>user_description</th>\n",
       "      <th>user_following</th>\n",
       "      <th>user_followers</th>\n",
       "      <th>user_verified</th>\n",
       "      <th>user_total_tweets</th>\n",
       "      <th>user_total_likes</th>\n",
       "      <th>label</th>\n",
       "      <th>num_label</th>\n",
       "    </tr>\n",
       "  </thead>\n",
       "  <tbody>\n",
       "    <tr>\n",
       "      <th>0</th>\n",
       "      <td>People who drink Arrowhead water on a daily ba...</td>\n",
       "      <td>0</td>\n",
       "      <td>8</td>\n",
       "      <td></td>\n",
       "      <td>59</td>\n",
       "      <td>235</td>\n",
       "      <td>False</td>\n",
       "      <td>23836</td>\n",
       "      <td>40638</td>\n",
       "      <td>0</td>\n",
       "      <td>1</td>\n",
       "    </tr>\n",
       "    <tr>\n",
       "      <th>1</th>\n",
       "      <td>people who drink tin sausage water are immune ...</td>\n",
       "      <td>1</td>\n",
       "      <td>1</td>\n",
       "      <td>May or may not know how to use a camera.</td>\n",
       "      <td>1211</td>\n",
       "      <td>1500</td>\n",
       "      <td>False</td>\n",
       "      <td>79213</td>\n",
       "      <td>36796</td>\n",
       "      <td>0</td>\n",
       "      <td>1</td>\n",
       "    </tr>\n",
       "    <tr>\n",
       "      <th>2</th>\n",
       "      <td>People who drink water out of the water hose a...</td>\n",
       "      <td>0</td>\n",
       "      <td>0</td>\n",
       "      <td>Information Security Analyst, Army National Gu...</td>\n",
       "      <td>23</td>\n",
       "      <td>14</td>\n",
       "      <td>False</td>\n",
       "      <td>200</td>\n",
       "      <td>91</td>\n",
       "      <td>0</td>\n",
       "      <td>1</td>\n",
       "    </tr>\n",
       "    <tr>\n",
       "      <th>6</th>\n",
       "      <td>Claim: novel #coronavirus can be cured overnig...</td>\n",
       "      <td>5</td>\n",
       "      <td>3</td>\n",
       "      <td>Journalist @afp, Fact-Checking @AFPFactCheck i...</td>\n",
       "      <td>624</td>\n",
       "      <td>14072</td>\n",
       "      <td>True</td>\n",
       "      <td>86824</td>\n",
       "      <td>17096</td>\n",
       "      <td>0</td>\n",
       "      <td>1</td>\n",
       "    </tr>\n",
       "    <tr>\n",
       "      <th>7</th>\n",
       "      <td>People who drink water from the sink are immun...</td>\n",
       "      <td>0</td>\n",
       "      <td>5</td>\n",
       "      <td>I definitely use humor as a coping mechanism</td>\n",
       "      <td>147</td>\n",
       "      <td>135</td>\n",
       "      <td>False</td>\n",
       "      <td>7357</td>\n",
       "      <td>20894</td>\n",
       "      <td>0</td>\n",
       "      <td>1</td>\n",
       "    </tr>\n",
       "    <tr>\n",
       "      <th>...</th>\n",
       "      <td>...</td>\n",
       "      <td>...</td>\n",
       "      <td>...</td>\n",
       "      <td>...</td>\n",
       "      <td>...</td>\n",
       "      <td>...</td>\n",
       "      <td>...</td>\n",
       "      <td>...</td>\n",
       "      <td>...</td>\n",
       "      <td>...</td>\n",
       "      <td>...</td>\n",
       "    </tr>\n",
       "    <tr>\n",
       "      <th>795</th>\n",
       "      <td>Put salt in ur water to bath, daily, pls do no...</td>\n",
       "      <td>0</td>\n",
       "      <td>0</td>\n",
       "      <td>human right activist\\npresident/founder of Nig...</td>\n",
       "      <td>220</td>\n",
       "      <td>51</td>\n",
       "      <td>False</td>\n",
       "      <td>1581</td>\n",
       "      <td>574</td>\n",
       "      <td>0</td>\n",
       "      <td>1</td>\n",
       "    </tr>\n",
       "    <tr>\n",
       "      <th>796</th>\n",
       "      <td>@narendramodi Pl try this anti-dote(Kada)to ki...</td>\n",
       "      <td>0</td>\n",
       "      <td>1</td>\n",
       "      <td>Business,Retail Expert,Karma Believer ,Deliver...</td>\n",
       "      <td>3327</td>\n",
       "      <td>579</td>\n",
       "      <td>False</td>\n",
       "      <td>1666</td>\n",
       "      <td>3159</td>\n",
       "      <td>0</td>\n",
       "      <td>1</td>\n",
       "    </tr>\n",
       "    <tr>\n",
       "      <th>797</th>\n",
       "      <td>@PDChina Pl try this anti-dote(Kada)to kill Co...</td>\n",
       "      <td>0</td>\n",
       "      <td>1</td>\n",
       "      <td>Business,Retail Expert,Karma Believer ,Deliver...</td>\n",
       "      <td>3327</td>\n",
       "      <td>579</td>\n",
       "      <td>False</td>\n",
       "      <td>1666</td>\n",
       "      <td>3159</td>\n",
       "      <td>0</td>\n",
       "      <td>1</td>\n",
       "    </tr>\n",
       "    <tr>\n",
       "      <th>798</th>\n",
       "      <td>Professor Choi Hyo-jick from the University of...</td>\n",
       "      <td>0</td>\n",
       "      <td>1</td>\n",
       "      <td>The Korea JoongAng Daily is an English-languag...</td>\n",
       "      <td>254</td>\n",
       "      <td>24263</td>\n",
       "      <td>True</td>\n",
       "      <td>31712</td>\n",
       "      <td>1050</td>\n",
       "      <td>0</td>\n",
       "      <td>1</td>\n",
       "    </tr>\n",
       "    <tr>\n",
       "      <th>799</th>\n",
       "      <td>@XHNews Pl try this anti-dote(Kada)to kill Cor...</td>\n",
       "      <td>0</td>\n",
       "      <td>1</td>\n",
       "      <td>Business,Retail Expert,Karma Believer ,Deliver...</td>\n",
       "      <td>3327</td>\n",
       "      <td>579</td>\n",
       "      <td>False</td>\n",
       "      <td>1666</td>\n",
       "      <td>3159</td>\n",
       "      <td>0</td>\n",
       "      <td>1</td>\n",
       "    </tr>\n",
       "  </tbody>\n",
       "</table>\n",
       "<p>658 rows × 11 columns</p>\n",
       "</div>"
      ],
      "text/plain": [
       "                                            tweet_text  retweets  likes  \\\n",
       "0    People who drink Arrowhead water on a daily ba...         0      8   \n",
       "1    people who drink tin sausage water are immune ...         1      1   \n",
       "2    People who drink water out of the water hose a...         0      0   \n",
       "6    Claim: novel #coronavirus can be cured overnig...         5      3   \n",
       "7    People who drink water from the sink are immun...         0      5   \n",
       "..                                                 ...       ...    ...   \n",
       "795  Put salt in ur water to bath, daily, pls do no...         0      0   \n",
       "796  @narendramodi Pl try this anti-dote(Kada)to ki...         0      1   \n",
       "797  @PDChina Pl try this anti-dote(Kada)to kill Co...         0      1   \n",
       "798  Professor Choi Hyo-jick from the University of...         0      1   \n",
       "799  @XHNews Pl try this anti-dote(Kada)to kill Cor...         0      1   \n",
       "\n",
       "                                      user_description  user_following  \\\n",
       "0                                                                   59   \n",
       "1             May or may not know how to use a camera.            1211   \n",
       "2    Information Security Analyst, Army National Gu...              23   \n",
       "6    Journalist @afp, Fact-Checking @AFPFactCheck i...             624   \n",
       "7         I definitely use humor as a coping mechanism             147   \n",
       "..                                                 ...             ...   \n",
       "795  human right activist\\npresident/founder of Nig...             220   \n",
       "796  Business,Retail Expert,Karma Believer ,Deliver...            3327   \n",
       "797  Business,Retail Expert,Karma Believer ,Deliver...            3327   \n",
       "798  The Korea JoongAng Daily is an English-languag...             254   \n",
       "799  Business,Retail Expert,Karma Believer ,Deliver...            3327   \n",
       "\n",
       "     user_followers user_verified  user_total_tweets  user_total_likes  label  \\\n",
       "0               235         False              23836             40638      0   \n",
       "1              1500         False              79213             36796      0   \n",
       "2                14         False                200                91      0   \n",
       "6             14072          True              86824             17096      0   \n",
       "7               135         False               7357             20894      0   \n",
       "..              ...           ...                ...               ...    ...   \n",
       "795              51         False               1581               574      0   \n",
       "796             579         False               1666              3159      0   \n",
       "797             579         False               1666              3159      0   \n",
       "798           24263          True              31712              1050      0   \n",
       "799             579         False               1666              3159      0   \n",
       "\n",
       "     num_label  \n",
       "0            1  \n",
       "1            1  \n",
       "2            1  \n",
       "6            1  \n",
       "7            1  \n",
       "..         ...  \n",
       "795          1  \n",
       "796          1  \n",
       "797          1  \n",
       "798          1  \n",
       "799          1  \n",
       "\n",
       "[658 rows x 11 columns]"
      ]
     },
     "execution_count": 13,
     "metadata": {},
     "output_type": "execute_result"
    }
   ],
   "source": [
    "dataset[dataset['label']==0]"
   ]
  },
  {
   "cell_type": "code",
   "execution_count": 14,
   "id": "099f0196",
   "metadata": {},
   "outputs": [],
   "source": [
    "dataset_array = dataset[[\"retweets\", \"likes\", \"user_following\",\n",
    "\"user_followers\", \"user_verified\", \"user_total_tweets\", \"user_total_likes\", \"num_label\"]]\n",
    "dataset_array = np.array(dataset_array).astype(float)"
   ]
  },
  {
   "cell_type": "code",
   "execution_count": 15,
   "id": "2ea70dba",
   "metadata": {},
   "outputs": [],
   "source": [
    "dataset_array = np.hstack([all_tw_desc_embed, all_tw_text_embed, dataset_array])\n",
    "dataset_x = dataset_array[:, :-1]\n",
    "dataset_y = dataset_array[:, -1]"
   ]
  },
  {
   "cell_type": "code",
   "execution_count": 16,
   "id": "70520a95",
   "metadata": {},
   "outputs": [],
   "source": [
    "# Train test split\n",
    "from sklearn.model_selection import train_test_split\n",
    "train_x, test_x, train_y, test_y = train_test_split(dataset_x, dataset_y, test_size=0.4, random_state=42)"
   ]
  },
  {
   "cell_type": "code",
   "execution_count": 17,
   "id": "af06bbfe",
   "metadata": {},
   "outputs": [],
   "source": [
    "# Normalize features\n",
    "from sklearn.preprocessing import StandardScaler\n",
    "scaler = StandardScaler()\n",
    "train_x = scaler.fit_transform(train_x)\n",
    "test_x = scaler.transform(test_x)"
   ]
  },
  {
   "cell_type": "code",
   "execution_count": 18,
   "id": "1e83ebb9",
   "metadata": {},
   "outputs": [
    {
     "name": "stderr",
     "output_type": "stream",
     "text": [
      "/home/harshapk/Projects/CSS_Project/.envs/css_proj/lib/python3.9/site-packages/sklearn/linear_model/_logistic.py:814: ConvergenceWarning: lbfgs failed to converge (status=1):\n",
      "STOP: TOTAL NO. of ITERATIONS REACHED LIMIT.\n",
      "\n",
      "Increase the number of iterations (max_iter) or scale the data as shown in:\n",
      "    https://scikit-learn.org/stable/modules/preprocessing.html\n",
      "Please also refer to the documentation for alternative solver options:\n",
      "    https://scikit-learn.org/stable/modules/linear_model.html#logistic-regression\n",
      "  n_iter_i = _check_optimize_result(\n"
     ]
    },
    {
     "data": {
      "text/plain": [
       "LogisticRegression()"
      ]
     },
     "execution_count": 18,
     "metadata": {},
     "output_type": "execute_result"
    }
   ],
   "source": [
    "# Logistic Regression\n",
    "from sklearn.linear_model import LogisticRegression\n",
    "logreg = LogisticRegression()\n",
    "logreg.fit(train_x, train_y)"
   ]
  },
  {
   "cell_type": "code",
   "execution_count": 19,
   "id": "0f529191",
   "metadata": {},
   "outputs": [
    {
     "name": "stdout",
     "output_type": "stream",
     "text": [
      "0.6967005076142132\n",
      "[[399 112]\n",
      " [127 150]]\n",
      "              precision    recall  f1-score   support\n",
      "\n",
      "         0.0       0.76      0.78      0.77       511\n",
      "         1.0       0.57      0.54      0.56       277\n",
      "\n",
      "    accuracy                           0.70       788\n",
      "   macro avg       0.67      0.66      0.66       788\n",
      "weighted avg       0.69      0.70      0.69       788\n",
      "\n",
      "0.5565862708719852\n"
     ]
    }
   ],
   "source": [
    "# Evaluate model\n",
    "from sklearn.metrics import accuracy_score, confusion_matrix, classification_report, f1_score\n",
    "pred_y = logreg.predict(test_x)\n",
    "print(accuracy_score(test_y, pred_y))\n",
    "print(confusion_matrix(test_y, pred_y))\n",
    "print(classification_report(test_y, pred_y))\n",
    "print(f1_score(test_y, pred_y))"
   ]
  },
  {
   "cell_type": "code",
   "execution_count": 20,
   "id": "ece041dd",
   "metadata": {},
   "outputs": [
    {
     "data": {
      "text/plain": [
       "RandomForestClassifier(random_state=42)"
      ]
     },
     "execution_count": 20,
     "metadata": {},
     "output_type": "execute_result"
    }
   ],
   "source": [
    "# Random Forest\n",
    "from sklearn.ensemble import RandomForestClassifier\n",
    "rfc = RandomForestClassifier(n_estimators=100, random_state=42)\n",
    "rfc.fit(train_x, train_y)"
   ]
  },
  {
   "cell_type": "code",
   "execution_count": 21,
   "id": "9d946ca6",
   "metadata": {},
   "outputs": [
    {
     "name": "stdout",
     "output_type": "stream",
     "text": [
      "0.6954314720812182\n",
      "[[484  27]\n",
      " [213  64]]\n",
      "              precision    recall  f1-score   support\n",
      "\n",
      "         0.0       0.69      0.95      0.80       511\n",
      "         1.0       0.70      0.23      0.35       277\n",
      "\n",
      "    accuracy                           0.70       788\n",
      "   macro avg       0.70      0.59      0.57       788\n",
      "weighted avg       0.70      0.70      0.64       788\n",
      "\n",
      "0.34782608695652173\n"
     ]
    }
   ],
   "source": [
    "# Evaluate model\n",
    "pred_y = rfc.predict(test_x)\n",
    "print(accuracy_score(test_y, pred_y))\n",
    "print(confusion_matrix(test_y, pred_y))\n",
    "print(classification_report(test_y, pred_y))\n",
    "print(f1_score(test_y, pred_y))"
   ]
  },
  {
   "cell_type": "code",
   "execution_count": 22,
   "id": "25396c0c",
   "metadata": {},
   "outputs": [
    {
     "data": {
      "text/plain": [
       "SVC(kernel='linear', random_state=42)"
      ]
     },
     "execution_count": 22,
     "metadata": {},
     "output_type": "execute_result"
    }
   ],
   "source": [
    "# SVM\n",
    "from sklearn.svm import SVC\n",
    "svc = SVC(kernel=\"linear\", random_state=42)\n",
    "svc.fit(train_x, train_y)"
   ]
  },
  {
   "cell_type": "code",
   "execution_count": 23,
   "id": "c93612c6",
   "metadata": {},
   "outputs": [
    {
     "name": "stdout",
     "output_type": "stream",
     "text": [
      "0.6649746192893401\n",
      "[[371 140]\n",
      " [124 153]]\n",
      "              precision    recall  f1-score   support\n",
      "\n",
      "         0.0       0.75      0.73      0.74       511\n",
      "         1.0       0.52      0.55      0.54       277\n",
      "\n",
      "    accuracy                           0.66       788\n",
      "   macro avg       0.64      0.64      0.64       788\n",
      "weighted avg       0.67      0.66      0.67       788\n",
      "\n",
      "0.5368421052631579\n"
     ]
    }
   ],
   "source": [
    "# Evaluate model\n",
    "pred_y = svc.predict(test_x)\n",
    "print(accuracy_score(test_y, pred_y))\n",
    "print(confusion_matrix(test_y, pred_y))\n",
    "print(classification_report(test_y, pred_y))\n",
    "print(f1_score(test_y, pred_y))"
   ]
  },
  {
   "cell_type": "code",
   "execution_count": 24,
   "id": "a195e22c",
   "metadata": {},
   "outputs": [
    {
     "data": {
      "text/plain": [
       "SVC(random_state=42)"
      ]
     },
     "execution_count": 24,
     "metadata": {},
     "output_type": "execute_result"
    }
   ],
   "source": [
    "# SVM with RBF kernel\n",
    "svc_rbf = SVC(kernel=\"rbf\", random_state=42)\n",
    "svc_rbf.fit(train_x, train_y)"
   ]
  },
  {
   "cell_type": "code",
   "execution_count": 25,
   "id": "4d777b8e",
   "metadata": {},
   "outputs": [
    {
     "name": "stdout",
     "output_type": "stream",
     "text": [
      "0.699238578680203\n",
      "[[493  18]\n",
      " [219  58]]\n",
      "              precision    recall  f1-score   support\n",
      "\n",
      "         0.0       0.69      0.96      0.81       511\n",
      "         1.0       0.76      0.21      0.33       277\n",
      "\n",
      "    accuracy                           0.70       788\n",
      "   macro avg       0.73      0.59      0.57       788\n",
      "weighted avg       0.72      0.70      0.64       788\n",
      "\n",
      "0.32861189801699714\n"
     ]
    }
   ],
   "source": [
    "# Evaluate model\n",
    "pred_y = svc_rbf.predict(test_x)\n",
    "print(accuracy_score(test_y, pred_y))\n",
    "print(confusion_matrix(test_y, pred_y))\n",
    "print(classification_report(test_y, pred_y))\n",
    "print(f1_score(test_y, pred_y))"
   ]
  },
  {
   "cell_type": "code",
   "execution_count": 26,
   "id": "5410290a",
   "metadata": {},
   "outputs": [
    {
     "data": {
      "text/plain": [
       "MLPClassifier(hidden_layer_sizes=(100, 100, 100), random_state=42)"
      ]
     },
     "execution_count": 26,
     "metadata": {},
     "output_type": "execute_result"
    }
   ],
   "source": [
    "# Neural Network\n",
    "from sklearn.neural_network import MLPClassifier\n",
    "mlp = MLPClassifier(random_state=42, hidden_layer_sizes=(100, 100, 100))\n",
    "mlp.fit(train_x, train_y)"
   ]
  },
  {
   "cell_type": "code",
   "execution_count": 27,
   "id": "e162c4a9",
   "metadata": {},
   "outputs": [
    {
     "name": "stdout",
     "output_type": "stream",
     "text": [
      "0.7068527918781726\n",
      "[[423  88]\n",
      " [143 134]]\n",
      "              precision    recall  f1-score   support\n",
      "\n",
      "         0.0       0.75      0.83      0.79       511\n",
      "         1.0       0.60      0.48      0.54       277\n",
      "\n",
      "    accuracy                           0.71       788\n",
      "   macro avg       0.68      0.66      0.66       788\n",
      "weighted avg       0.70      0.71      0.70       788\n",
      "\n",
      "0.5370741482965933\n"
     ]
    }
   ],
   "source": [
    "# Evaluate model\n",
    "pred_y = mlp.predict(test_x)\n",
    "print(accuracy_score(test_y, pred_y))\n",
    "print(confusion_matrix(test_y, pred_y))\n",
    "print(classification_report(test_y, pred_y))\n",
    "print(f1_score(test_y, pred_y))"
   ]
  },
  {
   "cell_type": "code",
   "execution_count": null,
   "id": "bf24b7d5",
   "metadata": {},
   "outputs": [],
   "source": []
  }
 ],
 "metadata": {
  "kernelspec": {
   "display_name": "Python 3 (ipykernel)",
   "language": "python",
   "name": "python3"
  },
  "language_info": {
   "codemirror_mode": {
    "name": "ipython",
    "version": 3
   },
   "file_extension": ".py",
   "mimetype": "text/x-python",
   "name": "python",
   "nbconvert_exporter": "python",
   "pygments_lexer": "ipython3",
   "version": "3.9.10"
  }
 },
 "nbformat": 4,
 "nbformat_minor": 5
}
