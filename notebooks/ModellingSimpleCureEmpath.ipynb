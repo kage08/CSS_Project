{
 "cells": [
  {
   "cell_type": "code",
   "execution_count": 1,
   "id": "d3be6938",
   "metadata": {},
   "outputs": [
    {
     "name": "stdout",
     "output_type": "stream",
     "text": [
      "/home/harshapk/Projects/CSS_Project\n"
     ]
    }
   ],
   "source": [
    "%cd ../\n",
    "import numpy as np\n",
    "import pandas as pd\n",
    "from tqdm import tqdm\n",
    "%load_ext autoreload\n",
    "%autoreload 2"
   ]
  },
  {
   "cell_type": "code",
   "execution_count": 2,
   "id": "3c0ba994",
   "metadata": {},
   "outputs": [],
   "source": [
    "import pickle\n",
    "with open(\"./data/data_processed/cure_data_cleaned.pkl\", \"rb\") as f:\n",
    "    dataset = pickle.load(f)"
   ]
  },
  {
   "cell_type": "code",
   "execution_count": 3,
   "id": "191df178",
   "metadata": {},
   "outputs": [],
   "source": [
    "dataset = dataset[dataset[\"lang\"] == \"en\"]"
   ]
  },
  {
   "cell_type": "code",
   "execution_count": 4,
   "id": "db6eb2a0",
   "metadata": {},
   "outputs": [],
   "source": [
    "dataset = dataset[[\"tweet_text\", \"retweets\", \"likes\", \"user_description\", \"user_following\",\n",
    "\"user_followers\", \"user_verified\", \"user_total_tweets\", \"user_total_likes\", \"label\"]]"
   ]
  },
  {
   "cell_type": "code",
   "execution_count": 5,
   "id": "5abe2f36",
   "metadata": {},
   "outputs": [
    {
     "data": {
      "text/plain": [
       "array([0, 1, 2])"
      ]
     },
     "execution_count": 5,
     "metadata": {},
     "output_type": "execute_result"
    }
   ],
   "source": [
    "dataset[\"label\"].unique()"
   ]
  },
  {
   "cell_type": "code",
   "execution_count": 6,
   "id": "9cfb7177",
   "metadata": {},
   "outputs": [
    {
     "name": "stderr",
     "output_type": "stream",
     "text": [
      "Some weights of the model checkpoint at bert-base-uncased were not used when initializing BertModel: ['cls.predictions.transform.dense.weight', 'cls.predictions.bias', 'cls.predictions.transform.LayerNorm.weight', 'cls.predictions.decoder.weight', 'cls.predictions.transform.dense.bias', 'cls.predictions.transform.LayerNorm.bias', 'cls.seq_relationship.bias', 'cls.seq_relationship.weight']\n",
      "- This IS expected if you are initializing BertModel from the checkpoint of a model trained on another task or with another architecture (e.g. initializing a BertForSequenceClassification model from a BertForPreTraining model).\n",
      "- This IS NOT expected if you are initializing BertModel from the checkpoint of a model that you expect to be exactly identical (initializing a BertForSequenceClassification model from a BertForSequenceClassification model).\n"
     ]
    }
   ],
   "source": [
    "from css_proj.models.bertembed import get_sentence_embed\n",
    "import transformers as ppb\n",
    "model_class, tokenizer_class, pretrained_weights = (ppb.BertModel, ppb.BertTokenizer, 'bert-base-uncased')\n",
    "tokenizer = tokenizer_class.from_pretrained(pretrained_weights)\n",
    "model = model_class.from_pretrained(pretrained_weights)"
   ]
  },
  {
   "cell_type": "code",
   "execution_count": 7,
   "id": "1dc8d5aa",
   "metadata": {},
   "outputs": [
    {
     "name": "stderr",
     "output_type": "stream",
     "text": [
      "100%|█████████████████████████████████████████████████████████████████████████████| 1970/1970 [02:46<00:00, 11.81it/s]\n"
     ]
    }
   ],
   "source": [
    "from css_proj.models.clean_tweet import process_text\n",
    "all_tw_text = dataset[\"tweet_text\"].tolist()\n",
    "all_tw_text_embed = [get_sentence_embed([process_text(text)], model, tokenizer).numpy() \n",
    "                     for text in tqdm(all_tw_text)]"
   ]
  },
  {
   "cell_type": "code",
   "execution_count": 8,
   "id": "3abacd9c",
   "metadata": {},
   "outputs": [],
   "source": [
    "all_tw_text_embed = np.array(all_tw_text_embed)\n",
    "all_tw_text_embed = all_tw_text_embed.squeeze()"
   ]
  },
  {
   "cell_type": "code",
   "execution_count": 9,
   "id": "1fa893c7",
   "metadata": {},
   "outputs": [
    {
     "name": "stderr",
     "output_type": "stream",
     "text": [
      "100%|█████████████████████████████████████████████████████████████████████████████| 1970/1970 [02:50<00:00, 11.57it/s]\n"
     ]
    }
   ],
   "source": [
    "all_tw_desc = dataset[\"user_description\"].tolist()\n",
    "all_tw_desc_embed = [get_sentence_embed([process_text(text)], model, tokenizer).numpy() for text in tqdm(all_tw_desc)]\n",
    "all_tw_desc_embed = np.array(all_tw_desc_embed).squeeze()"
   ]
  },
  {
   "cell_type": "code",
   "execution_count": 10,
   "id": "9b5303a1",
   "metadata": {},
   "outputs": [],
   "source": [
    "with open(\"./data/data_processed/covid_cure_embed.pkl\", \"wb\") as f:\n",
    "    pickle.dump([all_tw_text_embed, all_tw_desc_embed], f)"
   ]
  },
  {
   "cell_type": "code",
   "execution_count": 6,
   "id": "0c42e75f",
   "metadata": {},
   "outputs": [],
   "source": [
    "with open(\"./data/data_processed/covid_cure_embed.pkl\", \"rb\") as f:\n",
    "    all_tw_text_embed, all_tw_desc_embed = pickle.load(f)"
   ]
  },
  {
   "cell_type": "code",
   "execution_count": 7,
   "id": "bf08e0ae",
   "metadata": {},
   "outputs": [],
   "source": [
    "dataset[\"num_label\"] = dataset[\"label\"].apply(lambda x: 1 if x == 0 else 0)"
   ]
  },
  {
   "cell_type": "code",
   "execution_count": 14,
   "id": "649dd08c",
   "metadata": {},
   "outputs": [
    {
     "name": "stdout",
     "output_type": "stream",
     "text": [
      "[\"doctors\", \"doctor\", \"treatment\", \"patient\", \"illness\", \"hospital\", \"health\", \"surgery\", \"condition\", \"medication\", \"patients\", \"disease\", \"treatments\", \"sickness\", \"labour\", \"labor\", \"chemo\", \"operation\", \"recovery\", \"surgeon\", \"Doctors\", \"psychiatrist\", \"medicine\", \"clinic\", \"pregnancy\", \"therapy\", \"cancer\", \"intensive_care\", \"nurse\", \"symptoms\", \"ward\", \"diagnosis\", \"therapist\", \"trauma\", \"midwife\", \"surgeons\", \"physician\", \"blood_tests\", \"injuries\", \"critical_condition\", \"infection\", \"psychologist\", \"procedure\", \"chemotherapy\", \"tumor\", \"pneumonia\", \"local_hospital\", \"healer\", \"emergency_room\", \"injury\", \"injection\", \"coma\", \"test_results\", \"donor\", \"serious_injuries\", \"medically\", \"prescribed\", \"emergency_surgery\", \"autopsy\", \"nurses\", \"side_effects\", \"Alzheimer\", \"medications\", \"healers\", \"cure\", \"minor_injuries\", \"flu\", \"meds\", \"discharged\", \"suffering\", \"scans\", \"pack_doctor\", \"tests\", \"cured\", \"complications\", \"life_support\", \"blood_transfusion\", \"ICU\", \"blood_test\", \"head_injury\", \"scan\", \"memory_loss\", \"full_recovery\", \"serum\", \"blood_sample\", \"surgeries\", \"seizures\", \"x-rays\", \"results\", \"rehab\", \"examination\", \"pain_medication\", \"antibiotics\", \"brain_damage\", \"prescription\", \"bed_rest\", \"therapy_sessions\", \"depression\", \"state\", \"radiation\"]\n"
     ]
    }
   ],
   "source": [
    "from empath import Empath\n",
    "lexicon = Empath()\n",
    "lexicon.create_category(\"medical\", [\"doctor\", \"physician\", \"hospital\", \"health\", \"disease\"])"
   ]
  },
  {
   "cell_type": "code",
   "execution_count": 15,
   "id": "fe147498",
   "metadata": {},
   "outputs": [
    {
     "name": "stdout",
     "output_type": "stream",
     "text": [
      "[\"remarkable\", \"admirable\", \"questionable\", \"exceptional\", \"astounding\", \"certainly\", \"yet\", \"Though\", \"desirable\", \"extraordinary\", \"wise\", \"although\", \"practical\", \"simplicity\", \"gifted\", \"pleasing\", \"humble\", \"adequate\", \"honorable\", \"outstanding\", \"respectable\", \"rarity\", \"bearing\", \"quality\", \"enlightened\", \"Yet\", \"potential\", \"agreeable\", \"certain\", \"appeal\", \"sensible\", \"lacking\", \"Yet\", \"appreciative\", \"endowed\", \"satisfactory\", \"valued\", \"truly\", \"devoted\", \"confident\", \"refined\", \"perceived\", \"formidable\", \"own_right\", \"successful\", \"knowledgeable\", \"astonishing\", \"intelligence\", \"Although\", \"ambition\", \"outrageous\", \"powerful\", \"thorough\", \"appealing\", \"promising\", \"costly\", \"ideal\", \"worthy\", \"wicked\", \"wondrous\", \"undoubtedly\", \"noble\", \"boast\", \"however\", \"enchanting\", \"superficial\", \"though\", \"miraculous\", \"spiritual\", \"potential\", \"primitive\", \"grateful\", \"though\", \"flawed\", \"superior\", \"splendid\", \"unlike\", \"inadequate\", \"fascinating\", \"individual\", \"Moreover\", \"reliable\", \"greatest\", \"astonishing\", \"aspects\", \"brilliant\", \"logical\", \"unfortunate\", \"rewarding\", \"desired\", \"lacks\", \"resilient\", \"nature\", \"elusive\", \"magnificent\", \"partial\", \"despised\", \"seldom\", \"spectacular\"]\n",
      "[\"Yet\", \"Yet\", \"yet\", \"intolerable\", \"nuisance\", \"sickening\", \"fear\", \"Though\", \"surely\", \"wretched\", \"though\", \"terrifying\", \"shameful\", \"useless\", \"prone\", \"sickened\", \"unpleasant\", \"rash\", \"failure\", \"cruelty\", \"however\", \"rational\", \"although\", \"provoked\", \"certain\", \"brutality\", \"though\", \"bitter\", \"frightening\", \"literal\", \"questionable\", \"vulnerable\", \"savage\", \"turmoil\", \"carelessness\", \"angry\", \"feared\", \"ignorance\", \"corrupted\", \"cruel\", \"extreme\", \"troubled\", \"unavoidable\", \"inhuman\", \"dangerous\", \"extreme\", \"weak\", \"perceived\", \"foolish\", \"vicious\", \"affecting\", \"undoubtedly\", \"painful\", \"impossible\", \"somehow\", \"meaningless\", \"careless\", \"fearful\", \"desperate\", \"violent\", \"angered\", \"immune\", \"brutal\", \"infuriating\", \"revolted\", \"appeal\", \"unnatural\", \"devastating\", \"lethal\", \"possessed\", \"disliking\", \"Though\", \"afraid\", \"downfall\", \"misfortune\", \"dying\", \"certainly\", \"ruthless\", \"nonexistent\", \"However\", \"cowardice\", \"terrifying\", \"affected\", \"menace\", \"threat\", \"harmful\", \"effected\", \"knowing\", \"tainted\", \"unreasonable\", \"enough\", \"paranoia\"]\n"
     ]
    }
   ],
   "source": [
    "def get_words_from_txt(path):\n",
    "    return pd.read_table(path, header=None).to_numpy().squeeze()\n",
    "positive_words = get_words_from_txt(\"data/data_raw/positive-words.txt\")\n",
    "negative_words = get_words_from_txt(\"data/data_raw/negative-words.txt\")\n",
    "lexicon.create_category(\"positive_sent\", list(positive_words))\n",
    "lexicon.create_category(\"negative_sent\", list(negative_words))"
   ]
  },
  {
   "cell_type": "code",
   "execution_count": 19,
   "id": "fe41e644",
   "metadata": {},
   "outputs": [
    {
     "data": {
      "text/plain": [
       "{'positive_sent': 0.0, 'negative_sent': 1.0}"
      ]
     },
     "execution_count": 19,
     "metadata": {},
     "output_type": "execute_result"
    }
   ],
   "source": [
    "lexicon.analyze(dataset.iloc[0][\"tweet_text\"], categories=[\"positive_sent\", \"negative_sent\"])"
   ]
  },
  {
   "cell_type": "code",
   "execution_count": 20,
   "id": "f70b123c",
   "metadata": {},
   "outputs": [],
   "source": [
    "dataset[\"user_medical\"] = dataset[\"user_description\"].apply(\n",
    "    lambda x: lexicon.analyze(x, categories=[\"medical\"])[\"medical\"])"
   ]
  },
  {
   "cell_type": "code",
   "execution_count": 21,
   "id": "5a8907d6",
   "metadata": {},
   "outputs": [],
   "source": [
    "dataset[\"positive_sent\"] = dataset[\"tweet_text\"].apply(\n",
    "    lambda x: lexicon.analyze(x, categories=[\"positive_sent\", \"negative_sent\"])[\"positive_sent\"])\n",
    "dataset[\"negative_sent\"] = dataset[\"tweet_text\"].apply(\n",
    "    lambda x: lexicon.analyze(x, categories=[\"positive_sent\", \"negative_sent\"])[\"negative_sent\"])"
   ]
  },
  {
   "cell_type": "code",
   "execution_count": 22,
   "id": "099f0196",
   "metadata": {},
   "outputs": [],
   "source": [
    "dataset_array = dataset[[\"retweets\", \"likes\", \"user_following\",\n",
    "\"user_followers\", \"user_verified\", \"user_total_tweets\", \"user_total_likes\", \"user_medical\",\n",
    "                         \"positive_sent\", \"negative_sent\",\"num_label\"]]\n",
    "dataset_array = np.array(dataset_array).astype(float)"
   ]
  },
  {
   "cell_type": "code",
   "execution_count": 23,
   "id": "2ea70dba",
   "metadata": {},
   "outputs": [],
   "source": [
    "dataset_array = np.hstack([all_tw_desc_embed, all_tw_text_embed, dataset_array])\n",
    "dataset_x = dataset_array[:, :-1]\n",
    "dataset_y = dataset_array[:, -1]"
   ]
  },
  {
   "cell_type": "code",
   "execution_count": 24,
   "id": "70520a95",
   "metadata": {},
   "outputs": [],
   "source": [
    "# Train test split\n",
    "from sklearn.model_selection import train_test_split\n",
    "train_x, test_x, train_y, test_y = train_test_split(dataset_x, dataset_y, test_size=0.4, random_state=42)"
   ]
  },
  {
   "cell_type": "code",
   "execution_count": 25,
   "id": "af06bbfe",
   "metadata": {},
   "outputs": [],
   "source": [
    "# Normalize features\n",
    "from sklearn.preprocessing import StandardScaler\n",
    "scaler = StandardScaler()\n",
    "train_x = scaler.fit_transform(train_x)\n",
    "test_x = scaler.transform(test_x)"
   ]
  },
  {
   "cell_type": "code",
   "execution_count": 26,
   "id": "1e83ebb9",
   "metadata": {},
   "outputs": [
    {
     "name": "stderr",
     "output_type": "stream",
     "text": [
      "/home/harshapk/Projects/CSS_Project/.envs/css_proj/lib/python3.9/site-packages/sklearn/linear_model/_logistic.py:814: ConvergenceWarning: lbfgs failed to converge (status=1):\n",
      "STOP: TOTAL NO. of ITERATIONS REACHED LIMIT.\n",
      "\n",
      "Increase the number of iterations (max_iter) or scale the data as shown in:\n",
      "    https://scikit-learn.org/stable/modules/preprocessing.html\n",
      "Please also refer to the documentation for alternative solver options:\n",
      "    https://scikit-learn.org/stable/modules/linear_model.html#logistic-regression\n",
      "  n_iter_i = _check_optimize_result(\n"
     ]
    },
    {
     "data": {
      "text/plain": [
       "LogisticRegression()"
      ]
     },
     "execution_count": 26,
     "metadata": {},
     "output_type": "execute_result"
    }
   ],
   "source": [
    "# Logistic Regression\n",
    "from sklearn.linear_model import LogisticRegression\n",
    "logreg = LogisticRegression()\n",
    "logreg.fit(train_x, train_y)"
   ]
  },
  {
   "cell_type": "code",
   "execution_count": 27,
   "id": "0f529191",
   "metadata": {},
   "outputs": [
    {
     "name": "stdout",
     "output_type": "stream",
     "text": [
      "0.6941624365482234\n",
      "[[402 109]\n",
      " [132 145]]\n",
      "              precision    recall  f1-score   support\n",
      "\n",
      "         0.0       0.75      0.79      0.77       511\n",
      "         1.0       0.57      0.52      0.55       277\n",
      "\n",
      "    accuracy                           0.69       788\n",
      "   macro avg       0.66      0.66      0.66       788\n",
      "weighted avg       0.69      0.69      0.69       788\n",
      "\n",
      "0.5461393596986817\n"
     ]
    }
   ],
   "source": [
    "# Evaluate model\n",
    "from sklearn.metrics import accuracy_score, confusion_matrix, classification_report, f1_score\n",
    "pred_y = logreg.predict(test_x)\n",
    "print(accuracy_score(test_y, pred_y))\n",
    "print(confusion_matrix(test_y, pred_y))\n",
    "print(classification_report(test_y, pred_y))\n",
    "print(f1_score(test_y, pred_y))"
   ]
  },
  {
   "cell_type": "code",
   "execution_count": 28,
   "id": "ece041dd",
   "metadata": {},
   "outputs": [
    {
     "data": {
      "text/plain": [
       "RandomForestClassifier(random_state=42)"
      ]
     },
     "execution_count": 28,
     "metadata": {},
     "output_type": "execute_result"
    }
   ],
   "source": [
    "# Random Forest\n",
    "from sklearn.ensemble import RandomForestClassifier\n",
    "rfc = RandomForestClassifier(n_estimators=100, random_state=42)\n",
    "rfc.fit(train_x, train_y)"
   ]
  },
  {
   "cell_type": "code",
   "execution_count": 29,
   "id": "9d946ca6",
   "metadata": {},
   "outputs": [
    {
     "name": "stdout",
     "output_type": "stream",
     "text": [
      "0.700507614213198\n",
      "[[487  24]\n",
      " [212  65]]\n",
      "              precision    recall  f1-score   support\n",
      "\n",
      "         0.0       0.70      0.95      0.80       511\n",
      "         1.0       0.73      0.23      0.36       277\n",
      "\n",
      "    accuracy                           0.70       788\n",
      "   macro avg       0.71      0.59      0.58       788\n",
      "weighted avg       0.71      0.70      0.65       788\n",
      "\n",
      "0.3551912568306011\n"
     ]
    }
   ],
   "source": [
    "# Evaluate model\n",
    "pred_y = rfc.predict(test_x)\n",
    "print(accuracy_score(test_y, pred_y))\n",
    "print(confusion_matrix(test_y, pred_y))\n",
    "print(classification_report(test_y, pred_y))\n",
    "print(f1_score(test_y, pred_y))"
   ]
  },
  {
   "cell_type": "code",
   "execution_count": 30,
   "id": "25396c0c",
   "metadata": {},
   "outputs": [
    {
     "data": {
      "text/plain": [
       "SVC(kernel='linear', random_state=42)"
      ]
     },
     "execution_count": 30,
     "metadata": {},
     "output_type": "execute_result"
    }
   ],
   "source": [
    "# SVM\n",
    "from sklearn.svm import SVC\n",
    "svc = SVC(kernel=\"linear\", random_state=42)\n",
    "svc.fit(train_x, train_y)"
   ]
  },
  {
   "cell_type": "code",
   "execution_count": 31,
   "id": "c93612c6",
   "metadata": {},
   "outputs": [
    {
     "name": "stdout",
     "output_type": "stream",
     "text": [
      "0.6687817258883249\n",
      "[[374 137]\n",
      " [124 153]]\n",
      "              precision    recall  f1-score   support\n",
      "\n",
      "         0.0       0.75      0.73      0.74       511\n",
      "         1.0       0.53      0.55      0.54       277\n",
      "\n",
      "    accuracy                           0.67       788\n",
      "   macro avg       0.64      0.64      0.64       788\n",
      "weighted avg       0.67      0.67      0.67       788\n",
      "\n",
      "0.5396825396825398\n"
     ]
    }
   ],
   "source": [
    "# Evaluate model\n",
    "pred_y = svc.predict(test_x)\n",
    "print(accuracy_score(test_y, pred_y))\n",
    "print(confusion_matrix(test_y, pred_y))\n",
    "print(classification_report(test_y, pred_y))\n",
    "print(f1_score(test_y, pred_y))"
   ]
  },
  {
   "cell_type": "code",
   "execution_count": 32,
   "id": "a195e22c",
   "metadata": {},
   "outputs": [
    {
     "data": {
      "text/plain": [
       "SVC(random_state=42)"
      ]
     },
     "execution_count": 32,
     "metadata": {},
     "output_type": "execute_result"
    }
   ],
   "source": [
    "# SVM with RBF kernel\n",
    "svc_rbf = SVC(kernel=\"rbf\", random_state=42)\n",
    "svc_rbf.fit(train_x, train_y)"
   ]
  },
  {
   "cell_type": "code",
   "execution_count": 33,
   "id": "4d777b8e",
   "metadata": {},
   "outputs": [
    {
     "name": "stdout",
     "output_type": "stream",
     "text": [
      "0.6954314720812182\n",
      "[[491  20]\n",
      " [220  57]]\n",
      "              precision    recall  f1-score   support\n",
      "\n",
      "         0.0       0.69      0.96      0.80       511\n",
      "         1.0       0.74      0.21      0.32       277\n",
      "\n",
      "    accuracy                           0.70       788\n",
      "   macro avg       0.72      0.58      0.56       788\n",
      "weighted avg       0.71      0.70      0.63       788\n",
      "\n",
      "0.3220338983050847\n"
     ]
    }
   ],
   "source": [
    "# Evaluate model\n",
    "pred_y = svc_rbf.predict(test_x)\n",
    "print(accuracy_score(test_y, pred_y))\n",
    "print(confusion_matrix(test_y, pred_y))\n",
    "print(classification_report(test_y, pred_y))\n",
    "print(f1_score(test_y, pred_y))"
   ]
  },
  {
   "cell_type": "code",
   "execution_count": 34,
   "id": "5410290a",
   "metadata": {},
   "outputs": [
    {
     "data": {
      "text/plain": [
       "MLPClassifier(hidden_layer_sizes=(100, 100, 100), random_state=42)"
      ]
     },
     "execution_count": 34,
     "metadata": {},
     "output_type": "execute_result"
    }
   ],
   "source": [
    "# Neural Network\n",
    "from sklearn.neural_network import MLPClassifier\n",
    "mlp = MLPClassifier(random_state=42, hidden_layer_sizes=(100, 100, 100))\n",
    "mlp.fit(train_x, train_y)"
   ]
  },
  {
   "cell_type": "code",
   "execution_count": 35,
   "id": "e162c4a9",
   "metadata": {},
   "outputs": [
    {
     "name": "stdout",
     "output_type": "stream",
     "text": [
      "0.6979695431472082\n",
      "[[414  97]\n",
      " [141 136]]\n",
      "              precision    recall  f1-score   support\n",
      "\n",
      "         0.0       0.75      0.81      0.78       511\n",
      "         1.0       0.58      0.49      0.53       277\n",
      "\n",
      "    accuracy                           0.70       788\n",
      "   macro avg       0.66      0.65      0.66       788\n",
      "weighted avg       0.69      0.70      0.69       788\n",
      "\n",
      "0.5333333333333332\n"
     ]
    }
   ],
   "source": [
    "# Evaluate model\n",
    "pred_y = mlp.predict(test_x)\n",
    "print(accuracy_score(test_y, pred_y))\n",
    "print(confusion_matrix(test_y, pred_y))\n",
    "print(classification_report(test_y, pred_y))\n",
    "print(f1_score(test_y, pred_y))"
   ]
  },
  {
   "cell_type": "code",
   "execution_count": null,
   "id": "bf24b7d5",
   "metadata": {},
   "outputs": [],
   "source": []
  }
 ],
 "metadata": {
  "kernelspec": {
   "display_name": "Python 3 (ipykernel)",
   "language": "python",
   "name": "python3"
  },
  "language_info": {
   "codemirror_mode": {
    "name": "ipython",
    "version": 3
   },
   "file_extension": ".py",
   "mimetype": "text/x-python",
   "name": "python",
   "nbconvert_exporter": "python",
   "pygments_lexer": "ipython3",
   "version": "3.9.10"
  }
 },
 "nbformat": 4,
 "nbformat_minor": 5
}
