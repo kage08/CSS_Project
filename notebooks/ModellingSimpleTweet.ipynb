{
 "cells": [
  {
   "cell_type": "code",
   "execution_count": 1,
   "id": "d3be6938",
   "metadata": {},
   "outputs": [
    {
     "name": "stdout",
     "output_type": "stream",
     "text": [
      "/home/harshapk/Projects/CSS_Project\n"
     ]
    }
   ],
   "source": [
    "%cd ../\n",
    "import numpy as np\n",
    "import pandas as pd\n",
    "from tqdm import tqdm\n",
    "%load_ext autoreload\n",
    "%autoreload 2"
   ]
  },
  {
   "cell_type": "code",
   "execution_count": 23,
   "id": "3c0ba994",
   "metadata": {},
   "outputs": [],
   "source": [
    "import pickle\n",
    "with open(\"./data/data_processed/covid_lies_dataset.pkl\", \"rb\") as f:\n",
    "    dataset = pickle.load(f)"
   ]
  },
  {
   "cell_type": "code",
   "execution_count": 24,
   "id": "191df178",
   "metadata": {},
   "outputs": [],
   "source": [
    "dataset = dataset[dataset[\"lang\"] == \"en\"]"
   ]
  },
  {
   "cell_type": "code",
   "execution_count": 25,
   "id": "db6eb2a0",
   "metadata": {},
   "outputs": [],
   "source": [
    "dataset = dataset[[\"tweet_text\", \"retweets\", \"likes\", \"label\"]]"
   ]
  },
  {
   "cell_type": "code",
   "execution_count": 26,
   "id": "5abe2f36",
   "metadata": {},
   "outputs": [
    {
     "data": {
      "text/plain": [
       "array(['na', 'neg', 'pos'], dtype=object)"
      ]
     },
     "execution_count": 26,
     "metadata": {},
     "output_type": "execute_result"
    }
   ],
   "source": [
    "dataset[\"label\"].unique()"
   ]
  },
  {
   "cell_type": "code",
   "execution_count": null,
   "id": "9cfb7177",
   "metadata": {},
   "outputs": [],
   "source": [
    "from css_proj.models.bertembed import get_sentence_embed\n",
    "import transformers as ppb\n",
    "model_class, tokenizer_class, pretrained_weights = (ppb.BertModel, ppb.BertTokenizer, 'bert-base-uncased')\n",
    "tokenizer = tokenizer_class.from_pretrained(pretrained_weights)\n",
    "model = model_class.from_pretrained(pretrained_weights)"
   ]
  },
  {
   "cell_type": "code",
   "execution_count": null,
   "id": "1dc8d5aa",
   "metadata": {},
   "outputs": [],
   "source": [
    "all_tw_text = dataset[\"tweet_text\"].tolist()\n",
    "all_tw_text_embed = [get_sentence_embed([text], model, tokenizer).numpy() for text in tqdm(all_tw_text)]"
   ]
  },
  {
   "cell_type": "code",
   "execution_count": null,
   "id": "3abacd9c",
   "metadata": {},
   "outputs": [],
   "source": [
    "all_tw_text_embed = np.array(all_tw_text_embed)\n",
    "all_tw_text_embed = all_tw_text_embed.squeeze()"
   ]
  },
  {
   "cell_type": "code",
   "execution_count": null,
   "id": "1fa893c7",
   "metadata": {},
   "outputs": [],
   "source": [
    "all_tw_desc = dataset[\"user_description\"].tolist()\n",
    "all_tw_desc_embed = [get_sentence_embed([text], model, tokenizer).numpy() for text in tqdm(all_tw_desc)]\n",
    "all_tw_desc_embed = np.array(all_tw_desc_embed).squeeze()"
   ]
  },
  {
   "cell_type": "code",
   "execution_count": null,
   "id": "9b5303a1",
   "metadata": {},
   "outputs": [],
   "source": [
    "with open(\"./data/data_processed/covid_lies_embed.pkl\", \"wb\") as f:\n",
    "    pickle.dump([all_tw_text_embed, all_tw_desc_embed], f)"
   ]
  },
  {
   "cell_type": "code",
   "execution_count": 27,
   "id": "0c42e75f",
   "metadata": {},
   "outputs": [],
   "source": [
    "with open(\"./data/data_processed/covid_lies_embed.pkl\", \"rb\") as f:\n",
    "    all_tw_text_embed, all_tw_desc_embed = pickle.load(f)"
   ]
  },
  {
   "cell_type": "code",
   "execution_count": 28,
   "id": "bf08e0ae",
   "metadata": {},
   "outputs": [],
   "source": [
    "dataset[\"num_label\"] = dataset[\"label\"].apply(lambda x: 0 if x == \"na\" else 1)"
   ]
  },
  {
   "cell_type": "code",
   "execution_count": 29,
   "id": "fe147498",
   "metadata": {},
   "outputs": [
    {
     "data": {
      "text/html": [
       "<div>\n",
       "<style scoped>\n",
       "    .dataframe tbody tr th:only-of-type {\n",
       "        vertical-align: middle;\n",
       "    }\n",
       "\n",
       "    .dataframe tbody tr th {\n",
       "        vertical-align: top;\n",
       "    }\n",
       "\n",
       "    .dataframe thead th {\n",
       "        text-align: right;\n",
       "    }\n",
       "</style>\n",
       "<table border=\"1\" class=\"dataframe\">\n",
       "  <thead>\n",
       "    <tr style=\"text-align: right;\">\n",
       "      <th></th>\n",
       "      <th>tweet_text</th>\n",
       "      <th>retweets</th>\n",
       "      <th>likes</th>\n",
       "      <th>label</th>\n",
       "      <th>num_label</th>\n",
       "    </tr>\n",
       "  </thead>\n",
       "  <tbody>\n",
       "    <tr>\n",
       "      <th>0</th>\n",
       "      <td>Getting coronavirus and then coughing on peopl...</td>\n",
       "      <td>1</td>\n",
       "      <td>0</td>\n",
       "      <td>na</td>\n",
       "      <td>0</td>\n",
       "    </tr>\n",
       "    <tr>\n",
       "      <th>4</th>\n",
       "      <td>“Most people (not elderly, no underlying healt...</td>\n",
       "      <td>0</td>\n",
       "      <td>0</td>\n",
       "      <td>na</td>\n",
       "      <td>0</td>\n",
       "    </tr>\n",
       "    <tr>\n",
       "      <th>5</th>\n",
       "      <td>15-20% of people with COVID-19 may require hos...</td>\n",
       "      <td>0</td>\n",
       "      <td>0</td>\n",
       "      <td>na</td>\n",
       "      <td>0</td>\n",
       "    </tr>\n",
       "    <tr>\n",
       "      <th>6</th>\n",
       "      <td>A sheriff's office tried to get meth off the s...</td>\n",
       "      <td>0</td>\n",
       "      <td>0</td>\n",
       "      <td>na</td>\n",
       "      <td>0</td>\n",
       "    </tr>\n",
       "    <tr>\n",
       "      <th>7</th>\n",
       "      <td>In China’s War on the Coronavirus, a Community...</td>\n",
       "      <td>0</td>\n",
       "      <td>0</td>\n",
       "      <td>na</td>\n",
       "      <td>0</td>\n",
       "    </tr>\n",
       "  </tbody>\n",
       "</table>\n",
       "</div>"
      ],
      "text/plain": [
       "                                          tweet_text retweets likes label  \\\n",
       "0  Getting coronavirus and then coughing on peopl...        1     0    na   \n",
       "4  “Most people (not elderly, no underlying healt...        0     0    na   \n",
       "5  15-20% of people with COVID-19 may require hos...        0     0    na   \n",
       "6  A sheriff's office tried to get meth off the s...        0     0    na   \n",
       "7  In China’s War on the Coronavirus, a Community...        0     0    na   \n",
       "\n",
       "   num_label  \n",
       "0          0  \n",
       "4          0  \n",
       "5          0  \n",
       "6          0  \n",
       "7          0  "
      ]
     },
     "execution_count": 29,
     "metadata": {},
     "output_type": "execute_result"
    }
   ],
   "source": [
    "dataset.head()"
   ]
  },
  {
   "cell_type": "code",
   "execution_count": 30,
   "id": "099f0196",
   "metadata": {},
   "outputs": [],
   "source": [
    "dataset_array = dataset[[\"retweets\", \"likes\", \"num_label\"]]\n",
    "dataset_array = np.array(dataset_array).astype(float)"
   ]
  },
  {
   "cell_type": "code",
   "execution_count": 31,
   "id": "2ea70dba",
   "metadata": {},
   "outputs": [],
   "source": [
    "dataset_array = np.hstack([all_tw_desc_embed, all_tw_text_embed, dataset_array])\n",
    "dataset_x = dataset_array[:, :-1]\n",
    "dataset_y = dataset_array[:, -1]"
   ]
  },
  {
   "cell_type": "code",
   "execution_count": 32,
   "id": "70520a95",
   "metadata": {},
   "outputs": [],
   "source": [
    "# Train test split\n",
    "from sklearn.model_selection import train_test_split\n",
    "train_x, test_x, train_y, test_y = train_test_split(dataset_x, dataset_y, test_size=0.4, random_state=42)"
   ]
  },
  {
   "cell_type": "code",
   "execution_count": 33,
   "id": "af06bbfe",
   "metadata": {},
   "outputs": [],
   "source": [
    "# Normalize features\n",
    "from sklearn.preprocessing import StandardScaler\n",
    "scaler = StandardScaler()\n",
    "train_x = scaler.fit_transform(train_x)\n",
    "test_x = scaler.transform(test_x)"
   ]
  },
  {
   "cell_type": "code",
   "execution_count": 34,
   "id": "1e83ebb9",
   "metadata": {},
   "outputs": [
    {
     "name": "stderr",
     "output_type": "stream",
     "text": [
      "/home/harshapk/Projects/CSS_Project/.envs/css_proj/lib/python3.9/site-packages/sklearn/linear_model/_logistic.py:814: ConvergenceWarning: lbfgs failed to converge (status=1):\n",
      "STOP: TOTAL NO. of ITERATIONS REACHED LIMIT.\n",
      "\n",
      "Increase the number of iterations (max_iter) or scale the data as shown in:\n",
      "    https://scikit-learn.org/stable/modules/preprocessing.html\n",
      "Please also refer to the documentation for alternative solver options:\n",
      "    https://scikit-learn.org/stable/modules/linear_model.html#logistic-regression\n",
      "  n_iter_i = _check_optimize_result(\n"
     ]
    },
    {
     "data": {
      "text/plain": [
       "LogisticRegression()"
      ]
     },
     "execution_count": 34,
     "metadata": {},
     "output_type": "execute_result"
    }
   ],
   "source": [
    "# Logistic Regression\n",
    "from sklearn.linear_model import LogisticRegression\n",
    "logreg = LogisticRegression()\n",
    "logreg.fit(train_x, train_y)"
   ]
  },
  {
   "cell_type": "code",
   "execution_count": 35,
   "id": "0f529191",
   "metadata": {},
   "outputs": [
    {
     "name": "stdout",
     "output_type": "stream",
     "text": [
      "0.8924050632911392\n",
      "[[281  14]\n",
      " [ 20   1]]\n",
      "              precision    recall  f1-score   support\n",
      "\n",
      "         0.0       0.93      0.95      0.94       295\n",
      "         1.0       0.07      0.05      0.06        21\n",
      "\n",
      "    accuracy                           0.89       316\n",
      "   macro avg       0.50      0.50      0.50       316\n",
      "weighted avg       0.88      0.89      0.88       316\n",
      "\n",
      "0.05555555555555555\n"
     ]
    }
   ],
   "source": [
    "# Evaluate model\n",
    "from sklearn.metrics import accuracy_score, confusion_matrix, classification_report, f1_score\n",
    "pred_y = logreg.predict(test_x)\n",
    "print(accuracy_score(test_y, pred_y))\n",
    "print(confusion_matrix(test_y, pred_y))\n",
    "print(classification_report(test_y, pred_y))\n",
    "print(f1_score(test_y, pred_y))"
   ]
  },
  {
   "cell_type": "code",
   "execution_count": 36,
   "id": "ece041dd",
   "metadata": {},
   "outputs": [
    {
     "data": {
      "text/plain": [
       "RandomForestClassifier(random_state=42)"
      ]
     },
     "execution_count": 36,
     "metadata": {},
     "output_type": "execute_result"
    }
   ],
   "source": [
    "# Random Forest\n",
    "from sklearn.ensemble import RandomForestClassifier\n",
    "rfc = RandomForestClassifier(n_estimators=100, random_state=42)\n",
    "rfc.fit(train_x, train_y)"
   ]
  },
  {
   "cell_type": "code",
   "execution_count": 37,
   "id": "9d946ca6",
   "metadata": {},
   "outputs": [
    {
     "name": "stdout",
     "output_type": "stream",
     "text": [
      "0.9240506329113924\n",
      "[[292   3]\n",
      " [ 21   0]]\n",
      "              precision    recall  f1-score   support\n",
      "\n",
      "         0.0       0.93      0.99      0.96       295\n",
      "         1.0       0.00      0.00      0.00        21\n",
      "\n",
      "    accuracy                           0.92       316\n",
      "   macro avg       0.47      0.49      0.48       316\n",
      "weighted avg       0.87      0.92      0.90       316\n",
      "\n",
      "0.0\n"
     ]
    }
   ],
   "source": [
    "# Evaluate model\n",
    "pred_y = rfc.predict(test_x)\n",
    "print(accuracy_score(test_y, pred_y))\n",
    "print(confusion_matrix(test_y, pred_y))\n",
    "print(classification_report(test_y, pred_y))\n",
    "print(f1_score(test_y, pred_y))"
   ]
  },
  {
   "cell_type": "code",
   "execution_count": 38,
   "id": "25396c0c",
   "metadata": {},
   "outputs": [
    {
     "data": {
      "text/plain": [
       "SVC(kernel='linear', random_state=42)"
      ]
     },
     "execution_count": 38,
     "metadata": {},
     "output_type": "execute_result"
    }
   ],
   "source": [
    "# SVM\n",
    "from sklearn.svm import SVC\n",
    "svc = SVC(kernel=\"linear\", random_state=42)\n",
    "svc.fit(train_x, train_y)"
   ]
  },
  {
   "cell_type": "code",
   "execution_count": 39,
   "id": "c93612c6",
   "metadata": {},
   "outputs": [
    {
     "name": "stdout",
     "output_type": "stream",
     "text": [
      "0.870253164556962\n",
      "[[272  23]\n",
      " [ 18   3]]\n",
      "              precision    recall  f1-score   support\n",
      "\n",
      "         0.0       0.94      0.92      0.93       295\n",
      "         1.0       0.12      0.14      0.13        21\n",
      "\n",
      "    accuracy                           0.87       316\n",
      "   macro avg       0.53      0.53      0.53       316\n",
      "weighted avg       0.88      0.87      0.88       316\n",
      "\n",
      "0.12765957446808512\n"
     ]
    }
   ],
   "source": [
    "# Evaluate model\n",
    "pred_y = svc.predict(test_x)\n",
    "print(accuracy_score(test_y, pred_y))\n",
    "print(confusion_matrix(test_y, pred_y))\n",
    "print(classification_report(test_y, pred_y))\n",
    "print(f1_score(test_y, pred_y))"
   ]
  },
  {
   "cell_type": "code",
   "execution_count": 40,
   "id": "a195e22c",
   "metadata": {},
   "outputs": [
    {
     "data": {
      "text/plain": [
       "SVC(random_state=42)"
      ]
     },
     "execution_count": 40,
     "metadata": {},
     "output_type": "execute_result"
    }
   ],
   "source": [
    "# SVM with RBF kernel\n",
    "svc_rbf = SVC(kernel=\"rbf\", random_state=42)\n",
    "svc_rbf.fit(train_x, train_y)"
   ]
  },
  {
   "cell_type": "code",
   "execution_count": 41,
   "id": "4d777b8e",
   "metadata": {},
   "outputs": [
    {
     "name": "stdout",
     "output_type": "stream",
     "text": [
      "0.9335443037974683\n",
      "[[295   0]\n",
      " [ 21   0]]\n",
      "              precision    recall  f1-score   support\n",
      "\n",
      "         0.0       0.93      1.00      0.97       295\n",
      "         1.0       0.00      0.00      0.00        21\n",
      "\n",
      "    accuracy                           0.93       316\n",
      "   macro avg       0.47      0.50      0.48       316\n",
      "weighted avg       0.87      0.93      0.90       316\n",
      "\n",
      "0.0\n"
     ]
    },
    {
     "name": "stderr",
     "output_type": "stream",
     "text": [
      "/home/harshapk/Projects/CSS_Project/.envs/css_proj/lib/python3.9/site-packages/sklearn/metrics/_classification.py:1318: UndefinedMetricWarning: Precision and F-score are ill-defined and being set to 0.0 in labels with no predicted samples. Use `zero_division` parameter to control this behavior.\n",
      "  _warn_prf(average, modifier, msg_start, len(result))\n",
      "/home/harshapk/Projects/CSS_Project/.envs/css_proj/lib/python3.9/site-packages/sklearn/metrics/_classification.py:1318: UndefinedMetricWarning: Precision and F-score are ill-defined and being set to 0.0 in labels with no predicted samples. Use `zero_division` parameter to control this behavior.\n",
      "  _warn_prf(average, modifier, msg_start, len(result))\n",
      "/home/harshapk/Projects/CSS_Project/.envs/css_proj/lib/python3.9/site-packages/sklearn/metrics/_classification.py:1318: UndefinedMetricWarning: Precision and F-score are ill-defined and being set to 0.0 in labels with no predicted samples. Use `zero_division` parameter to control this behavior.\n",
      "  _warn_prf(average, modifier, msg_start, len(result))\n"
     ]
    }
   ],
   "source": [
    "# Evaluate model\n",
    "pred_y = svc_rbf.predict(test_x)\n",
    "print(accuracy_score(test_y, pred_y))\n",
    "print(confusion_matrix(test_y, pred_y))\n",
    "print(classification_report(test_y, pred_y))\n",
    "print(f1_score(test_y, pred_y))"
   ]
  },
  {
   "cell_type": "code",
   "execution_count": 42,
   "id": "5410290a",
   "metadata": {},
   "outputs": [
    {
     "data": {
      "text/plain": [
       "MLPClassifier(hidden_layer_sizes=(100, 100, 100), random_state=42)"
      ]
     },
     "execution_count": 42,
     "metadata": {},
     "output_type": "execute_result"
    }
   ],
   "source": [
    "# Neural Network\n",
    "from sklearn.neural_network import MLPClassifier\n",
    "mlp = MLPClassifier(random_state=42, hidden_layer_sizes=(100, 100, 100))\n",
    "mlp.fit(train_x, train_y)"
   ]
  },
  {
   "cell_type": "code",
   "execution_count": 43,
   "id": "e162c4a9",
   "metadata": {},
   "outputs": [
    {
     "name": "stdout",
     "output_type": "stream",
     "text": [
      "0.9145569620253164\n",
      "[[288   7]\n",
      " [ 20   1]]\n",
      "              precision    recall  f1-score   support\n",
      "\n",
      "         0.0       0.94      0.98      0.96       295\n",
      "         1.0       0.12      0.05      0.07        21\n",
      "\n",
      "    accuracy                           0.91       316\n",
      "   macro avg       0.53      0.51      0.51       316\n",
      "weighted avg       0.88      0.91      0.90       316\n",
      "\n",
      "0.06896551724137931\n"
     ]
    }
   ],
   "source": [
    "# Evaluate model\n",
    "pred_y = mlp.predict(test_x)\n",
    "print(accuracy_score(test_y, pred_y))\n",
    "print(confusion_matrix(test_y, pred_y))\n",
    "print(classification_report(test_y, pred_y))\n",
    "print(f1_score(test_y, pred_y))"
   ]
  },
  {
   "cell_type": "code",
   "execution_count": null,
   "id": "bf24b7d5",
   "metadata": {},
   "outputs": [],
   "source": []
  }
 ],
 "metadata": {
  "kernelspec": {
   "display_name": "Python 3 (ipykernel)",
   "language": "python",
   "name": "python3"
  },
  "language_info": {
   "codemirror_mode": {
    "name": "ipython",
    "version": 3
   },
   "file_extension": ".py",
   "mimetype": "text/x-python",
   "name": "python",
   "nbconvert_exporter": "python",
   "pygments_lexer": "ipython3",
   "version": "3.9.10"
  }
 },
 "nbformat": 4,
 "nbformat_minor": 5
}
