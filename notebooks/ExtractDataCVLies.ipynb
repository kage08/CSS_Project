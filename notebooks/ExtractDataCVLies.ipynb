{
 "cells": [
  {
   "cell_type": "markdown",
   "id": "c98ef43c",
   "metadata": {},
   "source": [
    "# Setup for local"
   ]
  },
  {
   "cell_type": "code",
   "execution_count": 1,
   "id": "511d45a2",
   "metadata": {},
   "outputs": [
    {
     "name": "stdout",
     "output_type": "stream",
     "text": [
      "/home/harshapk/Projects/CSS_Project\n"
     ]
    }
   ],
   "source": [
    "%cd ../\n",
    "import numpy as np\n",
    "import pandas as pd\n",
    "import matplotlib.pyplot as plt\n",
    "import seaborn as sns\n",
    "from scipy import stats \n",
    "from datetime import datetime, timedelta\n",
    "import os\n",
    "import requests\n",
    "from tqdm import tqdm\n",
    "%load_ext autoreload\n",
    "%autoreload 2"
   ]
  },
  {
   "cell_type": "code",
   "execution_count": 2,
   "id": "8e67e1a1",
   "metadata": {},
   "outputs": [],
   "source": [
    "from css_proj.preprocess.consts import COVID_LIES_PATH\n",
    "from css_proj.preprocess.covid_lies import initialize_api, get_df_covid_lies"
   ]
  },
  {
   "cell_type": "code",
   "execution_count": 3,
   "id": "b3b7489d",
   "metadata": {},
   "outputs": [],
   "source": [
    "API_KEY = \"tpzOojAJ6KxsoNTnansWU6665\"\n",
    "API_SECRET = \"G7aIqSMfrELwzptV4G9pgOBAm3tr1mvIML7Hl8kBivDvXwUkyc\"\n",
    "ACCESS_KEY = \"987583707346358272-y5cPBhuOpHStAdy2lmYGJEfZHNAqvoZ\"\n",
    "ACCESS_SECRET = \"JN151eja8TFbGYTyIUJD3KmDwbN2vjJ2yGPbXhWkvpe4c\""
   ]
  },
  {
   "cell_type": "code",
   "execution_count": 4,
   "id": "78a7aeba",
   "metadata": {},
   "outputs": [],
   "source": [
    "api = initialize_api(API_KEY, API_SECRET, ACCESS_KEY, ACCESS_SECRET)"
   ]
  },
  {
   "cell_type": "code",
   "execution_count": 5,
   "id": "e7a2c6e2",
   "metadata": {},
   "outputs": [],
   "source": [
    "# Example\n",
    "tweet = api.get_status(\"1233949547715584000\")"
   ]
  },
  {
   "cell_type": "code",
   "execution_count": 6,
   "id": "96e98ef4",
   "metadata": {},
   "outputs": [
    {
     "name": "stdout",
     "output_type": "stream",
     "text": [
      "One Spokane County resident is displaying symptoms of COVID-19 and has been tested for the respiratory disease, whi… https://t.co/gZd91v7M6Q\n"
     ]
    }
   ],
   "source": [
    "print(tweet.text)"
   ]
  },
  {
   "cell_type": "code",
   "execution_count": 7,
   "id": "545d7eb1",
   "metadata": {},
   "outputs": [
    {
     "name": "stdout",
     "output_type": "stream",
     "text": [
      "SpokesmanReview\n",
      "The Spokesman-Review is the Spokane region's only daily newspaper, covering news, sports, and life in Eastern Washington and North Idaho since 1883.\n",
      "Spokane, WA\n",
      "1483\n",
      "61393\n",
      "False\n",
      "69525\n",
      "1543\n",
      "942\n"
     ]
    }
   ],
   "source": [
    "print(tweet.user.screen_name)\n",
    "print(tweet.user.description)\n",
    "print(tweet.user.location)\n",
    "print(tweet.user.friends_count) # Following\n",
    "print(tweet.user.followers_count)\n",
    "print(tweet.user.verified)\n",
    "print(tweet.user.statuses_count)\n",
    "print(tweet.user.favourites_count) # Total no. of likes\n",
    "print(tweet.user.listed_count)"
   ]
  },
  {
   "cell_type": "code",
   "execution_count": 8,
   "id": "ad4285df",
   "metadata": {},
   "outputs": [
    {
     "name": "stdout",
     "output_type": "stream",
     "text": [
      "13 9 2020-03-01 02:57:52+00:00\n",
      "en False TweetDeck\n"
     ]
    }
   ],
   "source": [
    "print(tweet.retweet_count,tweet.favorite_count,tweet.created_at)\n",
    "print(tweet.lang, tweet.is_quote_status, tweet.source)"
   ]
  },
  {
   "cell_type": "code",
   "execution_count": 9,
   "id": "d14dcf3f",
   "metadata": {},
   "outputs": [],
   "source": [
    "followers = tweet.user.followers()"
   ]
  },
  {
   "cell_type": "markdown",
   "id": "76528022",
   "metadata": {},
   "source": [
    "We got some useful user based and tweet based features. Collect them into a dataframe"
   ]
  },
  {
   "cell_type": "code",
   "execution_count": 10,
   "id": "981befcb",
   "metadata": {},
   "outputs": [
    {
     "name": "stderr",
     "output_type": "stream",
     "text": [
      "100%|████████████████████████████████████████████████████████████████| 6591/6591 [13:07<00:00,  8.37it/s]\n"
     ]
    }
   ],
   "source": [
    "dataset = get_df_covid_lies(api)"
   ]
  },
  {
   "cell_type": "code",
   "execution_count": 11,
   "id": "f33831fd",
   "metadata": {},
   "outputs": [
    {
     "data": {
      "text/html": [
       "<div>\n",
       "<style scoped>\n",
       "    .dataframe tbody tr th:only-of-type {\n",
       "        vertical-align: middle;\n",
       "    }\n",
       "\n",
       "    .dataframe tbody tr th {\n",
       "        vertical-align: top;\n",
       "    }\n",
       "\n",
       "    .dataframe thead th {\n",
       "        text-align: right;\n",
       "    }\n",
       "</style>\n",
       "<table border=\"1\" class=\"dataframe\">\n",
       "  <thead>\n",
       "    <tr style=\"text-align: right;\">\n",
       "      <th></th>\n",
       "      <th>tweet_id</th>\n",
       "      <th>tweet_text</th>\n",
       "      <th>retweets</th>\n",
       "      <th>likes</th>\n",
       "      <th>created</th>\n",
       "      <th>lang</th>\n",
       "      <th>device</th>\n",
       "      <th>user_id</th>\n",
       "      <th>user_name</th>\n",
       "      <th>user_handle</th>\n",
       "      <th>user_location</th>\n",
       "      <th>user_description</th>\n",
       "      <th>user_following</th>\n",
       "      <th>user_followers</th>\n",
       "      <th>user_verified</th>\n",
       "      <th>user_total_tweets</th>\n",
       "      <th>user_total_likes</th>\n",
       "      <th>user_total_lists</th>\n",
       "      <th>misconception_id</th>\n",
       "      <th>label</th>\n",
       "    </tr>\n",
       "  </thead>\n",
       "  <tbody>\n",
       "    <tr>\n",
       "      <th>0</th>\n",
       "      <td>1233907923765559296</td>\n",
       "      <td>Getting coronavirus and then coughing on peopl...</td>\n",
       "      <td>1</td>\n",
       "      <td>0</td>\n",
       "      <td>2020-03-01 00:12:28+00:00</td>\n",
       "      <td>en</td>\n",
       "      <td>Twitter Web App</td>\n",
       "      <td>1205736570147524609</td>\n",
       "      <td>Cлава Сталинy 🇺🇲🤝🇨🇳🤝🇷🇺</td>\n",
       "      <td>Ancommissar</td>\n",
       "      <td>Ministry for State Security</td>\n",
       "      <td>Tankie</td>\n",
       "      <td>214</td>\n",
       "      <td>230</td>\n",
       "      <td>False</td>\n",
       "      <td>1709</td>\n",
       "      <td>28936</td>\n",
       "      <td>3</td>\n",
       "      <td>30</td>\n",
       "      <td>na</td>\n",
       "    </tr>\n",
       "    <tr>\n",
       "      <th>1</th>\n",
       "      <td>1233911842910720000</td>\n",
       "      <td>@Barioth_a_bot そう…ですね…私は常時深海に居ります故…ふわふわ、という感触で...</td>\n",
       "      <td>0</td>\n",
       "      <td>0</td>\n",
       "      <td>2020-03-01 00:28:02+00:00</td>\n",
       "      <td>ja</td>\n",
       "      <td>海底遺跡</td>\n",
       "      <td>369422192</td>\n",
       "      <td>ナバルデウス</td>\n",
       "      <td>Navaldeus_bot</td>\n",
       "      <td>海底遺跡</td>\n",
       "      <td>MH3・MH3Gに出る大海龍ナバルデウスの非公式botです。ちょっと天然で大人しいです。要望...</td>\n",
       "      <td>928</td>\n",
       "      <td>1091</td>\n",
       "      <td>False</td>\n",
       "      <td>71291</td>\n",
       "      <td>1</td>\n",
       "      <td>38</td>\n",
       "      <td>57</td>\n",
       "      <td>na</td>\n",
       "    </tr>\n",
       "    <tr>\n",
       "      <th>2</th>\n",
       "      <td>1233947734094290944</td>\n",
       "      <td>RT @TabascoHOY: #Coronavirus☣\\n➡Los infectados...</td>\n",
       "      <td>1</td>\n",
       "      <td>0</td>\n",
       "      <td>2020-03-01 02:50:40+00:00</td>\n",
       "      <td>es</td>\n",
       "      <td>Twitter for Android</td>\n",
       "      <td>162886483</td>\n",
       "      <td>Fx</td>\n",
       "      <td>ELECTROGALACTIC</td>\n",
       "      <td>México</td>\n",
       "      <td>Mi voz es mando y mi palabra es ley...Fx</td>\n",
       "      <td>1537</td>\n",
       "      <td>524</td>\n",
       "      <td>False</td>\n",
       "      <td>96527</td>\n",
       "      <td>141873</td>\n",
       "      <td>3</td>\n",
       "      <td>22</td>\n",
       "      <td>na</td>\n",
       "    </tr>\n",
       "    <tr>\n",
       "      <th>3</th>\n",
       "      <td>1233952635725778944</td>\n",
       "      <td>Branco já nasce sem noção ou enfia ela no cu d...</td>\n",
       "      <td>1</td>\n",
       "      <td>10</td>\n",
       "      <td>2020-03-01 03:10:08+00:00</td>\n",
       "      <td>pt</td>\n",
       "      <td>Twitter for iPhone</td>\n",
       "      <td>213424175</td>\n",
       "      <td>vic</td>\n",
       "      <td>vvegansexual</td>\n",
       "      <td></td>\n",
       "      <td>nunca prometi coerência | ela/dela</td>\n",
       "      <td>540</td>\n",
       "      <td>492</td>\n",
       "      <td>False</td>\n",
       "      <td>32809</td>\n",
       "      <td>48859</td>\n",
       "      <td>0</td>\n",
       "      <td>3</td>\n",
       "      <td>na</td>\n",
       "    </tr>\n",
       "    <tr>\n",
       "      <th>4</th>\n",
       "      <td>1233920123183828992</td>\n",
       "      <td>“Most people (not elderly, no underlying healt...</td>\n",
       "      <td>0</td>\n",
       "      <td>0</td>\n",
       "      <td>2020-03-01 01:00:57+00:00</td>\n",
       "      <td>en</td>\n",
       "      <td>Twitter Web Client</td>\n",
       "      <td>282696635</td>\n",
       "      <td>Eileen May</td>\n",
       "      <td>suleskerry</td>\n",
       "      <td></td>\n",
       "      <td>gran</td>\n",
       "      <td>2047</td>\n",
       "      <td>2838</td>\n",
       "      <td>False</td>\n",
       "      <td>198062</td>\n",
       "      <td>79764</td>\n",
       "      <td>13</td>\n",
       "      <td>50</td>\n",
       "      <td>na</td>\n",
       "    </tr>\n",
       "  </tbody>\n",
       "</table>\n",
       "</div>"
      ],
      "text/plain": [
       "              tweet_id                                         tweet_text  \\\n",
       "0  1233907923765559296  Getting coronavirus and then coughing on peopl...   \n",
       "1  1233911842910720000  @Barioth_a_bot そう…ですね…私は常時深海に居ります故…ふわふわ、という感触で...   \n",
       "2  1233947734094290944  RT @TabascoHOY: #Coronavirus☣\\n➡Los infectados...   \n",
       "3  1233952635725778944  Branco já nasce sem noção ou enfia ela no cu d...   \n",
       "4  1233920123183828992  “Most people (not elderly, no underlying healt...   \n",
       "\n",
       "  retweets likes                    created lang               device  \\\n",
       "0        1     0  2020-03-01 00:12:28+00:00   en      Twitter Web App   \n",
       "1        0     0  2020-03-01 00:28:02+00:00   ja                 海底遺跡   \n",
       "2        1     0  2020-03-01 02:50:40+00:00   es  Twitter for Android   \n",
       "3        1    10  2020-03-01 03:10:08+00:00   pt   Twitter for iPhone   \n",
       "4        0     0  2020-03-01 01:00:57+00:00   en   Twitter Web Client   \n",
       "\n",
       "               user_id               user_name      user_handle  \\\n",
       "0  1205736570147524609  Cлава Сталинy 🇺🇲🤝🇨🇳🤝🇷🇺      Ancommissar   \n",
       "1            369422192                  ナバルデウス    Navaldeus_bot   \n",
       "2            162886483                      Fx  ELECTROGALACTIC   \n",
       "3            213424175                     vic     vvegansexual   \n",
       "4            282696635              Eileen May       suleskerry   \n",
       "\n",
       "                 user_location  \\\n",
       "0  Ministry for State Security   \n",
       "1                         海底遺跡   \n",
       "2                       México   \n",
       "3                                \n",
       "4                                \n",
       "\n",
       "                                    user_description user_following  \\\n",
       "0                                             Tankie            214   \n",
       "1  MH3・MH3Gに出る大海龍ナバルデウスの非公式botです。ちょっと天然で大人しいです。要望...            928   \n",
       "2           Mi voz es mando y mi palabra es ley...Fx           1537   \n",
       "3                 nunca prometi coerência | ela/dela            540   \n",
       "4                                               gran           2047   \n",
       "\n",
       "  user_followers user_verified user_total_tweets user_total_likes  \\\n",
       "0            230         False              1709            28936   \n",
       "1           1091         False             71291                1   \n",
       "2            524         False             96527           141873   \n",
       "3            492         False             32809            48859   \n",
       "4           2838         False            198062            79764   \n",
       "\n",
       "  user_total_lists misconception_id label  \n",
       "0                3               30    na  \n",
       "1               38               57    na  \n",
       "2                3               22    na  \n",
       "3                0                3    na  \n",
       "4               13               50    na  "
      ]
     },
     "execution_count": 11,
     "metadata": {},
     "output_type": "execute_result"
    }
   ],
   "source": [
    "dataset.head()"
   ]
  },
  {
   "cell_type": "code",
   "execution_count": null,
   "id": "e08f88dd",
   "metadata": {},
   "outputs": [],
   "source": [
    "import pickle\n",
    "path = \"./data/data_processed/covid_lies_dataset.pkl\"\n",
    "with open(path, 'wb') as f:\n",
    "    pickle.dump(dataset, f)"
   ]
  },
  {
   "cell_type": "code",
   "execution_count": 12,
   "id": "187dd015",
   "metadata": {},
   "outputs": [
    {
     "data": {
      "text/plain": [
       "489"
      ]
     },
     "execution_count": 12,
     "metadata": {},
     "output_type": "execute_result"
    }
   ],
   "source": [
    "len(dataset)"
   ]
  },
  {
   "cell_type": "code",
   "execution_count": null,
   "id": "8324de94",
   "metadata": {},
   "outputs": [],
   "source": []
  }
 ],
 "metadata": {
  "kernelspec": {
   "display_name": "Python 3 (ipykernel)",
   "language": "python",
   "name": "python3"
  },
  "language_info": {
   "codemirror_mode": {
    "name": "ipython",
    "version": 3
   },
   "file_extension": ".py",
   "mimetype": "text/x-python",
   "name": "python",
   "nbconvert_exporter": "python",
   "pygments_lexer": "ipython3",
   "version": "3.9.10"
  }
 },
 "nbformat": 4,
 "nbformat_minor": 5
}
